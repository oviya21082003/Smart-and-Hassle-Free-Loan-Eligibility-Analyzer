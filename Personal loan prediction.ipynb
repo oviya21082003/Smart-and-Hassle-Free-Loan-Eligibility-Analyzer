{
 "cells": [
  {
   "cell_type": "markdown",
   "id": "2e609ee0-f2bc-4e13-b541-7ff127207e2a",
   "metadata": {},
   "source": [
    "# **Personal Loan Status Prediction using Ensembling Models**"
   ]
  },
  {
   "cell_type": "code",
   "execution_count": 1,
   "id": "9f678166-60d1-4127-96b1-d4393556752e",
   "metadata": {},
   "outputs": [],
   "source": [
    "import pandas as pd\n",
    "import numpy as np\n",
    "import matplotlib.pyplot as plt\n",
    "import seaborn as sns\n",
    "import warnings\n",
    "warnings.filterwarnings('ignore')"
   ]
  },
  {
   "cell_type": "code",
   "execution_count": 3,
   "id": "52af7d11-ad7a-4fd3-bca5-50c4cd0175de",
   "metadata": {},
   "outputs": [],
   "source": [
    "data = pd.read_csv('personal-loan.csv')"
   ]
  },
  {
   "cell_type": "code",
   "execution_count": 5,
   "id": "543ac452-685a-4d1f-ac65-f54e8e050f0b",
   "metadata": {},
   "outputs": [
    {
     "data": {
      "text/plain": [
       "['customer_id',\n",
       " 'age',\n",
       " 'yrs_experience',\n",
       " 'family_size',\n",
       " 'education_level',\n",
       " 'income',\n",
       " 'mortgage_amt',\n",
       " 'credit_card_acct',\n",
       " 'credit_card_spend',\n",
       " 'share_trading_acct',\n",
       " 'fixed_deposit_acct',\n",
       " 'online_acct',\n",
       " 'personal_loan']"
      ]
     },
     "execution_count": 5,
     "metadata": {},
     "output_type": "execute_result"
    }
   ],
   "source": [
    "data = pd.DataFrame(data)\n",
    "data.columns.tolist()"
   ]
  },
  {
   "cell_type": "markdown",
   "id": "a4b59649-ba1d-4f4c-95f7-80c2753674b1",
   "metadata": {},
   "source": [
    "# COLUMN DETAILS\n",
    "================\n",
    "# customer_id – A unique identifier assigned to each customer.\n",
    "# age – The age of the customer.\n",
    "# yrs_experience – Number of years of work experience the customer has.\n",
    "# family_size – The number of members in the customer's family.\n",
    "# education_level – The highest level of education attained by the customer (e.g., High School, Graduate, Postgraduate).\n",
    "# income – The annual income of the customer.\n",
    "# mortgage_amt – The amount of mortgage or home loan taken by the customer.\n",
    "# credit_card_acct – Whether the customer has a credit card account (Yes/No or 1/0).\n",
    "# credit_card_spend – The total amount the customer spends using their credit card.\n",
    "# share_trading_acct – Whether the customer has a stock/share trading account (Yes/No or 1/0).\n",
    "# fixed_deposit_acct – Whether the customer has a fixed deposit account (Yes/No or 1/0).\n",
    "# online_acct – Whether the customer has an online banking account (Yes/No or 1/0).\n",
    "# personal_loan – Whether the customer has taken a personal loan (Yes/No or 1/0)."
   ]
  },
  {
   "cell_type": "code",
   "execution_count": 7,
   "id": "b91dcf68-c4ef-4b20-b6c2-445ff82e6c05",
   "metadata": {},
   "outputs": [
    {
     "data": {
      "text/html": [
       "<div>\n",
       "<style scoped>\n",
       "    .dataframe tbody tr th:only-of-type {\n",
       "        vertical-align: middle;\n",
       "    }\n",
       "\n",
       "    .dataframe tbody tr th {\n",
       "        vertical-align: top;\n",
       "    }\n",
       "\n",
       "    .dataframe thead th {\n",
       "        text-align: right;\n",
       "    }\n",
       "</style>\n",
       "<table border=\"1\" class=\"dataframe\">\n",
       "  <thead>\n",
       "    <tr style=\"text-align: right;\">\n",
       "      <th></th>\n",
       "      <th>customer_id</th>\n",
       "      <th>age</th>\n",
       "      <th>yrs_experience</th>\n",
       "      <th>family_size</th>\n",
       "      <th>education_level</th>\n",
       "      <th>income</th>\n",
       "      <th>mortgage_amt</th>\n",
       "      <th>credit_card_acct</th>\n",
       "      <th>credit_card_spend</th>\n",
       "      <th>share_trading_acct</th>\n",
       "      <th>fixed_deposit_acct</th>\n",
       "      <th>online_acct</th>\n",
       "      <th>personal_loan</th>\n",
       "    </tr>\n",
       "  </thead>\n",
       "  <tbody>\n",
       "    <tr>\n",
       "      <th>0</th>\n",
       "      <td>3815</td>\n",
       "      <td>40.0</td>\n",
       "      <td>9.0</td>\n",
       "      <td>3.0</td>\n",
       "      <td>Graduate</td>\n",
       "      <td>60.0</td>\n",
       "      <td>0</td>\n",
       "      <td>yes</td>\n",
       "      <td>1.7</td>\n",
       "      <td>0</td>\n",
       "      <td>0</td>\n",
       "      <td>yes</td>\n",
       "      <td>no</td>\n",
       "    </tr>\n",
       "    <tr>\n",
       "      <th>1</th>\n",
       "      <td>5737</td>\n",
       "      <td>65.0</td>\n",
       "      <td>27.0</td>\n",
       "      <td>4.0</td>\n",
       "      <td>Advanced or Professional</td>\n",
       "      <td>36.0</td>\n",
       "      <td>90</td>\n",
       "      <td>no</td>\n",
       "      <td>0.0</td>\n",
       "      <td>0</td>\n",
       "      <td>0</td>\n",
       "      <td>yes</td>\n",
       "      <td>no</td>\n",
       "    </tr>\n",
       "    <tr>\n",
       "      <th>2</th>\n",
       "      <td>4209</td>\n",
       "      <td>61.0</td>\n",
       "      <td>3.0</td>\n",
       "      <td>2.0</td>\n",
       "      <td>Undergraduate</td>\n",
       "      <td>145.0</td>\n",
       "      <td>314</td>\n",
       "      <td>no</td>\n",
       "      <td>0.0</td>\n",
       "      <td>0</td>\n",
       "      <td>1</td>\n",
       "      <td>yes</td>\n",
       "      <td>yes</td>\n",
       "    </tr>\n",
       "    <tr>\n",
       "      <th>3</th>\n",
       "      <td>4734</td>\n",
       "      <td>29.0</td>\n",
       "      <td>14.0</td>\n",
       "      <td>1.0</td>\n",
       "      <td>Undergraduate</td>\n",
       "      <td>52.0</td>\n",
       "      <td>0</td>\n",
       "      <td>no</td>\n",
       "      <td>0.0</td>\n",
       "      <td>1</td>\n",
       "      <td>0</td>\n",
       "      <td>yes</td>\n",
       "      <td>no</td>\n",
       "    </tr>\n",
       "    <tr>\n",
       "      <th>4</th>\n",
       "      <td>2551</td>\n",
       "      <td>43.0</td>\n",
       "      <td>23.0</td>\n",
       "      <td>4.0</td>\n",
       "      <td>Graduate</td>\n",
       "      <td>33.0</td>\n",
       "      <td>0</td>\n",
       "      <td>no</td>\n",
       "      <td>0.0</td>\n",
       "      <td>0</td>\n",
       "      <td>0</td>\n",
       "      <td>yes</td>\n",
       "      <td>no</td>\n",
       "    </tr>\n",
       "  </tbody>\n",
       "</table>\n",
       "</div>"
      ],
      "text/plain": [
       "   customer_id   age  yrs_experience  family_size           education_level  \\\n",
       "0         3815  40.0             9.0          3.0                  Graduate   \n",
       "1         5737  65.0            27.0          4.0  Advanced or Professional   \n",
       "2         4209  61.0             3.0          2.0             Undergraduate   \n",
       "3         4734  29.0            14.0          1.0             Undergraduate   \n",
       "4         2551  43.0            23.0          4.0                  Graduate   \n",
       "\n",
       "   income  mortgage_amt credit_card_acct  credit_card_spend  \\\n",
       "0    60.0             0              yes                1.7   \n",
       "1    36.0            90               no                0.0   \n",
       "2   145.0           314               no                0.0   \n",
       "3    52.0             0               no                0.0   \n",
       "4    33.0             0               no                0.0   \n",
       "\n",
       "   share_trading_acct  fixed_deposit_acct online_acct personal_loan  \n",
       "0                   0                   0         yes            no  \n",
       "1                   0                   0         yes            no  \n",
       "2                   0                   1         yes           yes  \n",
       "3                   1                   0         yes            no  \n",
       "4                   0                   0         yes            no  "
      ]
     },
     "execution_count": 7,
     "metadata": {},
     "output_type": "execute_result"
    }
   ],
   "source": [
    "data.head()"
   ]
  },
  {
   "cell_type": "code",
   "execution_count": 9,
   "id": "73559a45-dfb6-44d9-ba04-008374594c71",
   "metadata": {
    "scrolled": true
   },
   "outputs": [
    {
     "data": {
      "text/html": [
       "<div>\n",
       "<style scoped>\n",
       "    .dataframe tbody tr th:only-of-type {\n",
       "        vertical-align: middle;\n",
       "    }\n",
       "\n",
       "    .dataframe tbody tr th {\n",
       "        vertical-align: top;\n",
       "    }\n",
       "\n",
       "    .dataframe thead th {\n",
       "        text-align: right;\n",
       "    }\n",
       "</style>\n",
       "<table border=\"1\" class=\"dataframe\">\n",
       "  <thead>\n",
       "    <tr style=\"text-align: right;\">\n",
       "      <th></th>\n",
       "      <th>customer_id</th>\n",
       "      <th>age</th>\n",
       "      <th>yrs_experience</th>\n",
       "      <th>family_size</th>\n",
       "      <th>education_level</th>\n",
       "      <th>income</th>\n",
       "      <th>mortgage_amt</th>\n",
       "      <th>credit_card_acct</th>\n",
       "      <th>credit_card_spend</th>\n",
       "      <th>share_trading_acct</th>\n",
       "      <th>fixed_deposit_acct</th>\n",
       "      <th>online_acct</th>\n",
       "      <th>personal_loan</th>\n",
       "    </tr>\n",
       "  </thead>\n",
       "  <tbody>\n",
       "    <tr>\n",
       "      <th>5995</th>\n",
       "      <td>5440</td>\n",
       "      <td>36.0</td>\n",
       "      <td>4.0</td>\n",
       "      <td>1.0</td>\n",
       "      <td>Undergraduate</td>\n",
       "      <td>72.0</td>\n",
       "      <td>0</td>\n",
       "      <td>no</td>\n",
       "      <td>0.0</td>\n",
       "      <td>0</td>\n",
       "      <td>0</td>\n",
       "      <td>yes</td>\n",
       "      <td>no</td>\n",
       "    </tr>\n",
       "    <tr>\n",
       "      <th>5996</th>\n",
       "      <td>1251</td>\n",
       "      <td>56.0</td>\n",
       "      <td>25.0</td>\n",
       "      <td>2.0</td>\n",
       "      <td>Undergraduate</td>\n",
       "      <td>110.0</td>\n",
       "      <td>0</td>\n",
       "      <td>no</td>\n",
       "      <td>0.0</td>\n",
       "      <td>0</td>\n",
       "      <td>0</td>\n",
       "      <td>no</td>\n",
       "      <td>no</td>\n",
       "    </tr>\n",
       "    <tr>\n",
       "      <th>5997</th>\n",
       "      <td>2454</td>\n",
       "      <td>34.0</td>\n",
       "      <td>11.0</td>\n",
       "      <td>2.0</td>\n",
       "      <td>Advanced or Professional</td>\n",
       "      <td>57.0</td>\n",
       "      <td>0</td>\n",
       "      <td>no</td>\n",
       "      <td>0.0</td>\n",
       "      <td>1</td>\n",
       "      <td>0</td>\n",
       "      <td>yes</td>\n",
       "      <td>no</td>\n",
       "    </tr>\n",
       "    <tr>\n",
       "      <th>5998</th>\n",
       "      <td>1435</td>\n",
       "      <td>30.0</td>\n",
       "      <td>NaN</td>\n",
       "      <td>2.0</td>\n",
       "      <td>Undergraduate</td>\n",
       "      <td>85.0</td>\n",
       "      <td>81</td>\n",
       "      <td>no</td>\n",
       "      <td>0.0</td>\n",
       "      <td>0</td>\n",
       "      <td>0</td>\n",
       "      <td>yes</td>\n",
       "      <td>no</td>\n",
       "    </tr>\n",
       "    <tr>\n",
       "      <th>5999</th>\n",
       "      <td>1409</td>\n",
       "      <td>47.0</td>\n",
       "      <td>22.0</td>\n",
       "      <td>3.0</td>\n",
       "      <td>Graduate</td>\n",
       "      <td>141.0</td>\n",
       "      <td>0</td>\n",
       "      <td>yes</td>\n",
       "      <td>2.1</td>\n",
       "      <td>0</td>\n",
       "      <td>0</td>\n",
       "      <td>no</td>\n",
       "      <td>no</td>\n",
       "    </tr>\n",
       "  </tbody>\n",
       "</table>\n",
       "</div>"
      ],
      "text/plain": [
       "      customer_id   age  yrs_experience  family_size  \\\n",
       "5995         5440  36.0             4.0          1.0   \n",
       "5996         1251  56.0            25.0          2.0   \n",
       "5997         2454  34.0            11.0          2.0   \n",
       "5998         1435  30.0             NaN          2.0   \n",
       "5999         1409  47.0            22.0          3.0   \n",
       "\n",
       "               education_level  income  mortgage_amt credit_card_acct  \\\n",
       "5995             Undergraduate    72.0             0               no   \n",
       "5996             Undergraduate   110.0             0               no   \n",
       "5997  Advanced or Professional    57.0             0               no   \n",
       "5998             Undergraduate    85.0            81               no   \n",
       "5999                  Graduate   141.0             0              yes   \n",
       "\n",
       "      credit_card_spend  share_trading_acct  fixed_deposit_acct online_acct  \\\n",
       "5995                0.0                   0                   0         yes   \n",
       "5996                0.0                   0                   0          no   \n",
       "5997                0.0                   1                   0         yes   \n",
       "5998                0.0                   0                   0         yes   \n",
       "5999                2.1                   0                   0          no   \n",
       "\n",
       "     personal_loan  \n",
       "5995            no  \n",
       "5996            no  \n",
       "5997            no  \n",
       "5998            no  \n",
       "5999            no  "
      ]
     },
     "execution_count": 9,
     "metadata": {},
     "output_type": "execute_result"
    }
   ],
   "source": [
    "data.tail()"
   ]
  },
  {
   "cell_type": "markdown",
   "id": "4cbaa6bb-e050-4ee6-b0d4-0d8804e03742",
   "metadata": {},
   "source": [
    "## **Exploring the Data**"
   ]
  },
  {
   "cell_type": "code",
   "execution_count": 12,
   "id": "357f2609-2dad-4bbb-8caa-d53e89ff5e7a",
   "metadata": {},
   "outputs": [
    {
     "data": {
      "text/plain": [
       "(6000, 13)"
      ]
     },
     "execution_count": 12,
     "metadata": {},
     "output_type": "execute_result"
    }
   ],
   "source": [
    "data.shape"
   ]
  },
  {
   "cell_type": "code",
   "execution_count": 14,
   "id": "c35c82ef-723e-4225-888e-172a70c26184",
   "metadata": {},
   "outputs": [
    {
     "data": {
      "text/plain": [
       "Index(['customer_id', 'age', 'yrs_experience', 'family_size',\n",
       "       'education_level', 'income', 'mortgage_amt', 'credit_card_acct',\n",
       "       'credit_card_spend', 'share_trading_acct', 'fixed_deposit_acct',\n",
       "       'online_acct', 'personal_loan'],\n",
       "      dtype='object')"
      ]
     },
     "execution_count": 14,
     "metadata": {},
     "output_type": "execute_result"
    }
   ],
   "source": [
    "data.columns"
   ]
  },
  {
   "cell_type": "code",
   "execution_count": 16,
   "id": "3e334c83-c3ca-447f-b541-47df4b238706",
   "metadata": {},
   "outputs": [
    {
     "name": "stdout",
     "output_type": "stream",
     "text": [
      "<class 'pandas.core.frame.DataFrame'>\n",
      "RangeIndex: 6000 entries, 0 to 5999\n",
      "Data columns (total 13 columns):\n",
      " #   Column              Non-Null Count  Dtype  \n",
      "---  ------              --------------  -----  \n",
      " 0   customer_id         6000 non-null   int64  \n",
      " 1   age                 5620 non-null   float64\n",
      " 2   yrs_experience      5636 non-null   float64\n",
      " 3   family_size         5615 non-null   float64\n",
      " 4   education_level     6000 non-null   object \n",
      " 5   income              5623 non-null   float64\n",
      " 6   mortgage_amt        6000 non-null   int64  \n",
      " 7   credit_card_acct    6000 non-null   object \n",
      " 8   credit_card_spend   6000 non-null   float64\n",
      " 9   share_trading_acct  6000 non-null   int64  \n",
      " 10  fixed_deposit_acct  6000 non-null   int64  \n",
      " 11  online_acct         6000 non-null   object \n",
      " 12  personal_loan       6000 non-null   object \n",
      "dtypes: float64(5), int64(4), object(4)\n",
      "memory usage: 609.5+ KB\n"
     ]
    }
   ],
   "source": [
    "data.info()"
   ]
  },
  {
   "cell_type": "code",
   "execution_count": 18,
   "id": "74f464a5-ba59-442d-b03d-733e35aacd95",
   "metadata": {},
   "outputs": [
    {
     "data": {
      "text/html": [
       "<div>\n",
       "<style scoped>\n",
       "    .dataframe tbody tr th:only-of-type {\n",
       "        vertical-align: middle;\n",
       "    }\n",
       "\n",
       "    .dataframe tbody tr th {\n",
       "        vertical-align: top;\n",
       "    }\n",
       "\n",
       "    .dataframe thead th {\n",
       "        text-align: right;\n",
       "    }\n",
       "</style>\n",
       "<table border=\"1\" class=\"dataframe\">\n",
       "  <thead>\n",
       "    <tr style=\"text-align: right;\">\n",
       "      <th></th>\n",
       "      <th>count</th>\n",
       "      <th>mean</th>\n",
       "      <th>std</th>\n",
       "      <th>min</th>\n",
       "      <th>25%</th>\n",
       "      <th>50%</th>\n",
       "      <th>75%</th>\n",
       "      <th>max</th>\n",
       "    </tr>\n",
       "  </thead>\n",
       "  <tbody>\n",
       "    <tr>\n",
       "      <th>customer_id</th>\n",
       "      <td>6000.0</td>\n",
       "      <td>3027.886667</td>\n",
       "      <td>1723.488432</td>\n",
       "      <td>3.0</td>\n",
       "      <td>1553.75</td>\n",
       "      <td>3045.5</td>\n",
       "      <td>4511.0</td>\n",
       "      <td>6000.0</td>\n",
       "    </tr>\n",
       "    <tr>\n",
       "      <th>age</th>\n",
       "      <td>5620.0</td>\n",
       "      <td>45.556940</td>\n",
       "      <td>13.373778</td>\n",
       "      <td>23.0</td>\n",
       "      <td>34.00</td>\n",
       "      <td>45.0</td>\n",
       "      <td>56.0</td>\n",
       "      <td>92.0</td>\n",
       "    </tr>\n",
       "    <tr>\n",
       "      <th>yrs_experience</th>\n",
       "      <td>5636.0</td>\n",
       "      <td>21.182221</td>\n",
       "      <td>13.247945</td>\n",
       "      <td>0.0</td>\n",
       "      <td>10.00</td>\n",
       "      <td>21.0</td>\n",
       "      <td>32.0</td>\n",
       "      <td>65.0</td>\n",
       "    </tr>\n",
       "    <tr>\n",
       "      <th>family_size</th>\n",
       "      <td>5615.0</td>\n",
       "      <td>2.468566</td>\n",
       "      <td>1.215636</td>\n",
       "      <td>1.0</td>\n",
       "      <td>1.00</td>\n",
       "      <td>2.0</td>\n",
       "      <td>4.0</td>\n",
       "      <td>7.0</td>\n",
       "    </tr>\n",
       "    <tr>\n",
       "      <th>income</th>\n",
       "      <td>5623.0</td>\n",
       "      <td>88.143873</td>\n",
       "      <td>48.736053</td>\n",
       "      <td>8.0</td>\n",
       "      <td>52.00</td>\n",
       "      <td>82.0</td>\n",
       "      <td>118.0</td>\n",
       "      <td>300.0</td>\n",
       "    </tr>\n",
       "    <tr>\n",
       "      <th>mortgage_amt</th>\n",
       "      <td>6000.0</td>\n",
       "      <td>67.585667</td>\n",
       "      <td>88.155099</td>\n",
       "      <td>0.0</td>\n",
       "      <td>0.00</td>\n",
       "      <td>0.0</td>\n",
       "      <td>125.0</td>\n",
       "      <td>617.0</td>\n",
       "    </tr>\n",
       "    <tr>\n",
       "      <th>credit_card_spend</th>\n",
       "      <td>6000.0</td>\n",
       "      <td>0.627467</td>\n",
       "      <td>1.423450</td>\n",
       "      <td>0.0</td>\n",
       "      <td>0.00</td>\n",
       "      <td>0.0</td>\n",
       "      <td>0.4</td>\n",
       "      <td>9.5</td>\n",
       "    </tr>\n",
       "    <tr>\n",
       "      <th>share_trading_acct</th>\n",
       "      <td>6000.0</td>\n",
       "      <td>0.099167</td>\n",
       "      <td>0.298911</td>\n",
       "      <td>0.0</td>\n",
       "      <td>0.00</td>\n",
       "      <td>0.0</td>\n",
       "      <td>0.0</td>\n",
       "      <td>1.0</td>\n",
       "    </tr>\n",
       "    <tr>\n",
       "      <th>fixed_deposit_acct</th>\n",
       "      <td>6000.0</td>\n",
       "      <td>0.078167</td>\n",
       "      <td>0.268456</td>\n",
       "      <td>0.0</td>\n",
       "      <td>0.00</td>\n",
       "      <td>0.0</td>\n",
       "      <td>0.0</td>\n",
       "      <td>1.0</td>\n",
       "    </tr>\n",
       "  </tbody>\n",
       "</table>\n",
       "</div>"
      ],
      "text/plain": [
       "                     count         mean          std   min      25%     50%  \\\n",
       "customer_id         6000.0  3027.886667  1723.488432   3.0  1553.75  3045.5   \n",
       "age                 5620.0    45.556940    13.373778  23.0    34.00    45.0   \n",
       "yrs_experience      5636.0    21.182221    13.247945   0.0    10.00    21.0   \n",
       "family_size         5615.0     2.468566     1.215636   1.0     1.00     2.0   \n",
       "income              5623.0    88.143873    48.736053   8.0    52.00    82.0   \n",
       "mortgage_amt        6000.0    67.585667    88.155099   0.0     0.00     0.0   \n",
       "credit_card_spend   6000.0     0.627467     1.423450   0.0     0.00     0.0   \n",
       "share_trading_acct  6000.0     0.099167     0.298911   0.0     0.00     0.0   \n",
       "fixed_deposit_acct  6000.0     0.078167     0.268456   0.0     0.00     0.0   \n",
       "\n",
       "                       75%     max  \n",
       "customer_id         4511.0  6000.0  \n",
       "age                   56.0    92.0  \n",
       "yrs_experience        32.0    65.0  \n",
       "family_size            4.0     7.0  \n",
       "income               118.0   300.0  \n",
       "mortgage_amt         125.0   617.0  \n",
       "credit_card_spend      0.4     9.5  \n",
       "share_trading_acct     0.0     1.0  \n",
       "fixed_deposit_acct     0.0     1.0  "
      ]
     },
     "execution_count": 18,
     "metadata": {},
     "output_type": "execute_result"
    }
   ],
   "source": [
    "data.describe().T"
   ]
  },
  {
   "cell_type": "code",
   "execution_count": 20,
   "id": "42a84dda-f81a-45cc-b02f-98d9908fc956",
   "metadata": {},
   "outputs": [
    {
     "name": "stdout",
     "output_type": "stream",
     "text": [
      "Unique values in 'education_level': ['Graduate' 'Advanced or Professional' 'Undergraduate']\n",
      "Unique values in 'credit_card_acct': ['yes' 'no']\n",
      "Unique values in 'online_acct': ['yes' 'no']\n",
      "Unique values in 'personal_loan': ['no' 'yes']\n"
     ]
    }
   ],
   "source": [
    "categorical_cols = data.select_dtypes(include=['object']).columns\n",
    "\n",
    "# Printing unique values for each categorical column\n",
    "for col in categorical_cols:\n",
    "    print(f\"Unique values in '{col}': {data[col].unique()}\")"
   ]
  },
  {
   "cell_type": "markdown",
   "id": "727ad691-0f9e-44fa-915b-d76d54facd6e",
   "metadata": {},
   "source": [
    "Applicant with credit history as 1 are more eligible for loan than with credit history = 0 (378 vs 7)"
   ]
  },
  {
   "cell_type": "code",
   "execution_count": 23,
   "id": "badca3ed-051f-4423-a647-e2044fe20cd8",
   "metadata": {},
   "outputs": [],
   "source": [
    "usd_to_inr = 83  # 1 USD = 83 INR\n",
    "\n",
    "# Convert dollars to rupees\n",
    "data['income'] = data['income'] * usd_to_inr\n",
    "data['mortgage_amt'] = data['mortgage_amt'] * usd_to_inr\n",
    "data['credit_card_spend'] = data['credit_card_spend'] * usd_to_inr"
   ]
  },
  {
   "cell_type": "markdown",
   "id": "5b97c3de-3597-47e2-9b3b-46fe3dd8ae05",
   "metadata": {},
   "source": [
    "##  **Data Visualization**\n",
    "#### **Exploring Some of the Variable by visualizing them.**"
   ]
  },
  {
   "cell_type": "code",
   "execution_count": 26,
   "id": "ab0a046c-f952-43c3-a42e-685971a42385",
   "metadata": {},
   "outputs": [
    {
     "data": {
      "image/png": "[encoded data removed]",
      "text/plain": [
       "<Figure size 640x480 with 1 Axes>"
      ]
     },
     "metadata": {},
     "output_type": "display_data"
    }
   ],
   "source": [
    "sns.countplot(x='personal_loan', data=data)\n",
    "plt.title(\"Distribution of Personal Loan Applicants\")\n",
    "plt.xlabel(\"Loan Approval (0 = No, 1 = Yes)\")\n",
    "plt.ylabel(\"Count\")\n",
    "plt.show()"
   ]
  },
  {
   "cell_type": "code",
   "execution_count": 28,
   "id": "16550983-102f-46b6-bcb7-c07510c4e030",
   "metadata": {},
   "outputs": [
    {
     "data": {
      "image/png": "[encoded data removed]",
      "text/plain": [
       "<Figure size 640x480 with 1 Axes>"
      ]
     },
     "metadata": {},
     "output_type": "display_data"
    }
   ],
   "source": [
    "# Income using boxplot, Lots of Outliers\n",
    "data.boxplot(column='income')\n",
    "plt.show()"
   ]
  },
  {
   "cell_type": "code",
   "execution_count": 39,
   "id": "de440420-827f-4b03-a593-57bba48ed69d",
   "metadata": {},
   "outputs": [
    {
     "data": {
      "image/png": "[encoded data removed]",
      "text/plain": [
       "<Figure size 640x480 with 1 Axes>"
      ]
     },
     "metadata": {},
     "output_type": "display_data"
    }
   ],
   "source": [
    "# yes_experience distribution.\n",
    "data['yrs_experience'].hist(bins=20)\n",
    "plt.show()"
   ]
  },
  {
   "cell_type": "markdown",
   "id": "9471df15-dabc-4750-b7be-bac2100a2624",
   "metadata": {},
   "source": [
    "Uniform distribution with some peaks – The distribution appears relatively even, but some values (like around 5, 15, 25, and 35 years) have higher frequencies, suggesting that experience might be grouped around specific milestones.\n",
    "\n",
    "Few outliers above 60 years – There is a bar at 60+ years, indicating a few individuals with exceptionally high experience.\n",
    "\n",
    "No skewness, mostly symmetric "
   ]
  },
  {
   "cell_type": "code",
   "execution_count": 42,
   "id": "c615dcf0-5bb1-47fc-a699-b269b5141271",
   "metadata": {},
   "outputs": [
    {
     "data": {
      "image/png": "[encoded data removed]",
      "text/plain": [
       "<Figure size 640x480 with 1 Axes>"
      ]
     },
     "metadata": {},
     "output_type": "display_data"
    }
   ],
   "source": [
    "sns.boxplot(x='personal_loan', y='family_size', data=data)\n",
    "plt.title(\"Family Size vs Loan Approval\")\n",
    "plt.xlabel(\"Loan Approval (0 = No, 1 = Yes)\")\n",
    "plt.ylabel(\"Family Size\")\n",
    "plt.show()"
   ]
  },
  {
   "cell_type": "markdown",
   "id": "395dcd6a-5d50-4f6f-bca7-6827356c31d9",
   "metadata": {},
   "source": [
    "Larger families might have a higher approval rate.\n",
    "    \n",
    "Loan approvals could be influenced by financial stability (since larger families may have higher incomes)."
   ]
  },
  {
   "cell_type": "code",
   "execution_count": 45,
   "id": "a6cc9a8b-ad63-4f24-bc7c-28cf2c57770b",
   "metadata": {},
   "outputs": [
    {
     "data": {
      "image/png": "[encoded data removed]",
      "text/plain": [
       "<Figure size 600x400 with 1 Axes>"
      ]
     },
     "metadata": {},
     "output_type": "display_data"
    }
   ],
   "source": [
    "plt.figure(figsize=(6, 4))\n",
    "sns.scatterplot(x='income', y='credit_card_spend', hue='personal_loan', data=data)\n",
    "plt.title(\"Credit Card Spend vs Income (Colored by Loan Approval)\")\n",
    "plt.xlabel(\"Income\")\n",
    "plt.ylabel(\"Credit Card Spend\")\n",
    "plt.show()"
   ]
  },
  {
   "cell_type": "markdown",
   "id": "d255ea14-1777-4245-90b5-35ccdb9681fe",
   "metadata": {},
   "source": [
    "the graph suggests a positive relationship between income and credit card spending, and indicates that higher income and spending are associated with a higher likelihood of loan approval. However, it's important to remember that correlation does not equal causation, and other factors likely play a role in loan approval decisions."
   ]
  },
  {
   "cell_type": "code",
   "execution_count": 48,
   "id": "864f8e10-0474-4bd9-81c2-1bcd5fc8f8da",
   "metadata": {},
   "outputs": [
    {
     "data": {
      "image/png": "[encoded data removed]",
      "text/plain": [
       "<Figure size 640x480 with 1 Axes>"
      ]
     },
     "metadata": {},
     "output_type": "display_data"
    }
   ],
   "source": [
    "data['income'].hist(bins=20)\n",
    "plt.show()\n",
    "#Little Right Skewed."
   ]
  },
  {
   "cell_type": "code",
   "execution_count": 50,
   "id": "6c6163eb-49f2-4ca5-848c-4f9b99891e77",
   "metadata": {},
   "outputs": [
    {
     "data": {
      "image/png": "[encoded data removed]",
      "text/plain": [
       "<Figure size 640x480 with 1 Axes>"
      ]
     },
     "metadata": {},
     "output_type": "display_data"
    }
   ],
   "source": [
    "# Normalizing the right skewed data.\n",
    "\n",
    "data['income_log'] = np.log(data['income'])\n",
    "\n",
    "# Visualizing LoanAmount_Log\n",
    "data['income_log'].hist(bins=20)\n",
    "plt.show()"
   ]
  },
  {
   "cell_type": "markdown",
   "id": "6c49dba1-5a4d-43d0-8eb3-66a8e30ce839",
   "metadata": {},
   "source": [
    "## **Looking for missing values**"
   ]
  },
  {
   "cell_type": "code",
   "execution_count": 53,
   "id": "9c52e096-26fd-4057-a974-ca5e18e1d75f",
   "metadata": {},
   "outputs": [
    {
     "data": {
      "text/plain": [
       "customer_id             0\n",
       "age                   380\n",
       "yrs_experience        364\n",
       "family_size           385\n",
       "education_level         0\n",
       "income                377\n",
       "mortgage_amt            0\n",
       "credit_card_acct        0\n",
       "credit_card_spend       0\n",
       "share_trading_acct      0\n",
       "fixed_deposit_acct      0\n",
       "online_acct             0\n",
       "personal_loan           0\n",
       "income_log            377\n",
       "dtype: int64"
      ]
     },
     "execution_count": 53,
     "metadata": {},
     "output_type": "execute_result"
    }
   ],
   "source": [
    "data.isnull().sum()"
   ]
  },
  {
   "cell_type": "markdown",
   "id": "946c29d7-5fb6-4b04-8746-45d48cef3092",
   "metadata": {},
   "source": [
    "##  **Handling missing values**"
   ]
  },
  {
   "cell_type": "code",
   "execution_count": 56,
   "id": "02ae431a-c4bc-4ac1-9358-debbd6f418be",
   "metadata": {},
   "outputs": [],
   "source": [
    "#Age\n",
    "data['age'] = data['age'].fillna(data['age'].median())"
   ]
  },
  {
   "cell_type": "code",
   "execution_count": 58,
   "id": "10eae033-c166-42fa-9c09-96a3cf1fbe00",
   "metadata": {},
   "outputs": [],
   "source": [
    "#yrs_experience\n",
    "data['yrs_experience'] = data['yrs_experience'].fillna(data['yrs_experience'].median())"
   ]
  },
  {
   "cell_type": "code",
   "execution_count": 60,
   "id": "808485ce-5767-4757-9958-c081fd393370",
   "metadata": {},
   "outputs": [],
   "source": [
    "#income\n",
    "data[['income','income_log']] = data[['income','income_log']].fillna(data['income'].mean())"
   ]
  },
  {
   "cell_type": "code",
   "execution_count": 62,
   "id": "81437112-4229-4734-a9f5-d316bbf605ad",
   "metadata": {},
   "outputs": [],
   "source": [
    "#mortgage_amt\n",
    "data['mortgage_amt'] = data['mortgage_amt'].fillna(data['mortgage_amt'].median())"
   ]
  },
  {
   "cell_type": "code",
   "execution_count": 64,
   "id": "f177dd7e-cef2-4b71-ad04-244527656f03",
   "metadata": {},
   "outputs": [],
   "source": [
    "#family size\n",
    "data['family_size'] = data['family_size'].fillna(data['family_size'].mean())"
   ]
  },
  {
   "cell_type": "code",
   "execution_count": 66,
   "id": "6e6da92a-b043-4f7d-9ac1-e2b7ba533aeb",
   "metadata": {},
   "outputs": [
    {
     "data": {
      "text/plain": [
       "customer_id           0\n",
       "age                   0\n",
       "yrs_experience        0\n",
       "family_size           0\n",
       "education_level       0\n",
       "income                0\n",
       "mortgage_amt          0\n",
       "credit_card_acct      0\n",
       "credit_card_spend     0\n",
       "share_trading_acct    0\n",
       "fixed_deposit_acct    0\n",
       "online_acct           0\n",
       "personal_loan         0\n",
       "income_log            0\n",
       "dtype: int64"
      ]
     },
     "execution_count": 66,
     "metadata": {},
     "output_type": "execute_result"
    }
   ],
   "source": [
    "data.isnull().sum()"
   ]
  },
  {
   "cell_type": "markdown",
   "id": "347659af-f866-45a1-a51e-f874d50218fc",
   "metadata": {},
   "source": [
    "all missing values are handled"
   ]
  },
  {
   "cell_type": "code",
   "execution_count": 69,
   "id": "7cb654c8-71e9-40fc-be8f-a003ea2888c6",
   "metadata": {},
   "outputs": [
    {
     "data": {
      "text/html": [
       "<div>\n",
       "<style scoped>\n",
       "    .dataframe tbody tr th:only-of-type {\n",
       "        vertical-align: middle;\n",
       "    }\n",
       "\n",
       "    .dataframe tbody tr th {\n",
       "        vertical-align: top;\n",
       "    }\n",
       "\n",
       "    .dataframe thead th {\n",
       "        text-align: right;\n",
       "    }\n",
       "</style>\n",
       "<table border=\"1\" class=\"dataframe\">\n",
       "  <thead>\n",
       "    <tr style=\"text-align: right;\">\n",
       "      <th></th>\n",
       "      <th>customer_id</th>\n",
       "      <th>age</th>\n",
       "      <th>yrs_experience</th>\n",
       "      <th>family_size</th>\n",
       "      <th>education_level</th>\n",
       "      <th>income</th>\n",
       "      <th>mortgage_amt</th>\n",
       "      <th>credit_card_acct</th>\n",
       "      <th>credit_card_spend</th>\n",
       "      <th>share_trading_acct</th>\n",
       "      <th>fixed_deposit_acct</th>\n",
       "      <th>online_acct</th>\n",
       "      <th>personal_loan</th>\n",
       "      <th>income_log</th>\n",
       "    </tr>\n",
       "  </thead>\n",
       "  <tbody>\n",
       "    <tr>\n",
       "      <th>0</th>\n",
       "      <td>3815</td>\n",
       "      <td>40.0</td>\n",
       "      <td>9.0</td>\n",
       "      <td>3.0</td>\n",
       "      <td>Graduate</td>\n",
       "      <td>4980.0</td>\n",
       "      <td>0</td>\n",
       "      <td>yes</td>\n",
       "      <td>141.1</td>\n",
       "      <td>0</td>\n",
       "      <td>0</td>\n",
       "      <td>yes</td>\n",
       "      <td>no</td>\n",
       "      <td>8.513185</td>\n",
       "    </tr>\n",
       "    <tr>\n",
       "      <th>1</th>\n",
       "      <td>5737</td>\n",
       "      <td>65.0</td>\n",
       "      <td>27.0</td>\n",
       "      <td>4.0</td>\n",
       "      <td>Advanced or Professional</td>\n",
       "      <td>2988.0</td>\n",
       "      <td>7470</td>\n",
       "      <td>no</td>\n",
       "      <td>0.0</td>\n",
       "      <td>0</td>\n",
       "      <td>0</td>\n",
       "      <td>yes</td>\n",
       "      <td>no</td>\n",
       "      <td>8.002360</td>\n",
       "    </tr>\n",
       "    <tr>\n",
       "      <th>2</th>\n",
       "      <td>4209</td>\n",
       "      <td>61.0</td>\n",
       "      <td>3.0</td>\n",
       "      <td>2.0</td>\n",
       "      <td>Undergraduate</td>\n",
       "      <td>12035.0</td>\n",
       "      <td>26062</td>\n",
       "      <td>no</td>\n",
       "      <td>0.0</td>\n",
       "      <td>0</td>\n",
       "      <td>1</td>\n",
       "      <td>yes</td>\n",
       "      <td>yes</td>\n",
       "      <td>9.395574</td>\n",
       "    </tr>\n",
       "    <tr>\n",
       "      <th>3</th>\n",
       "      <td>4734</td>\n",
       "      <td>29.0</td>\n",
       "      <td>14.0</td>\n",
       "      <td>1.0</td>\n",
       "      <td>Undergraduate</td>\n",
       "      <td>4316.0</td>\n",
       "      <td>0</td>\n",
       "      <td>no</td>\n",
       "      <td>0.0</td>\n",
       "      <td>1</td>\n",
       "      <td>0</td>\n",
       "      <td>yes</td>\n",
       "      <td>no</td>\n",
       "      <td>8.370084</td>\n",
       "    </tr>\n",
       "    <tr>\n",
       "      <th>4</th>\n",
       "      <td>2551</td>\n",
       "      <td>43.0</td>\n",
       "      <td>23.0</td>\n",
       "      <td>4.0</td>\n",
       "      <td>Graduate</td>\n",
       "      <td>2739.0</td>\n",
       "      <td>0</td>\n",
       "      <td>no</td>\n",
       "      <td>0.0</td>\n",
       "      <td>0</td>\n",
       "      <td>0</td>\n",
       "      <td>yes</td>\n",
       "      <td>no</td>\n",
       "      <td>7.915348</td>\n",
       "    </tr>\n",
       "  </tbody>\n",
       "</table>\n",
       "</div>"
      ],
      "text/plain": [
       "   customer_id   age  yrs_experience  family_size           education_level  \\\n",
       "0         3815  40.0             9.0          3.0                  Graduate   \n",
       "1         5737  65.0            27.0          4.0  Advanced or Professional   \n",
       "2         4209  61.0             3.0          2.0             Undergraduate   \n",
       "3         4734  29.0            14.0          1.0             Undergraduate   \n",
       "4         2551  43.0            23.0          4.0                  Graduate   \n",
       "\n",
       "    income  mortgage_amt credit_card_acct  credit_card_spend  \\\n",
       "0   4980.0             0              yes              141.1   \n",
       "1   2988.0          7470               no                0.0   \n",
       "2  12035.0         26062               no                0.0   \n",
       "3   4316.0             0               no                0.0   \n",
       "4   2739.0             0               no                0.0   \n",
       "\n",
       "   share_trading_acct  fixed_deposit_acct online_acct personal_loan  \\\n",
       "0                   0                   0         yes            no   \n",
       "1                   0                   0         yes            no   \n",
       "2                   0                   1         yes           yes   \n",
       "3                   1                   0         yes            no   \n",
       "4                   0                   0         yes            no   \n",
       "\n",
       "   income_log  \n",
       "0    8.513185  \n",
       "1    8.002360  \n",
       "2    9.395574  \n",
       "3    8.370084  \n",
       "4    7.915348  "
      ]
     },
     "execution_count": 69,
     "metadata": {},
     "output_type": "execute_result"
    }
   ],
   "source": [
    "data.head()"
   ]
  },
  {
   "cell_type": "markdown",
   "id": "f526bfea-b324-4a19-b8ba-39a512c22d96",
   "metadata": {},
   "source": [
    "## **Handling Categorical Columns**"
   ]
  },
  {
   "cell_type": "code",
   "execution_count": 72,
   "id": "30d21a67-48d9-4032-b6cb-37bca2eb626d",
   "metadata": {},
   "outputs": [
    {
     "data": {
      "text/html": [
       "<div>\n",
       "<style scoped>\n",
       "    .dataframe tbody tr th:only-of-type {\n",
       "        vertical-align: middle;\n",
       "    }\n",
       "\n",
       "    .dataframe tbody tr th {\n",
       "        vertical-align: top;\n",
       "    }\n",
       "\n",
       "    .dataframe thead th {\n",
       "        text-align: right;\n",
       "    }\n",
       "</style>\n",
       "<table border=\"1\" class=\"dataframe\">\n",
       "  <thead>\n",
       "    <tr style=\"text-align: right;\">\n",
       "      <th></th>\n",
       "      <th>customer_id</th>\n",
       "      <th>age</th>\n",
       "      <th>yrs_experience</th>\n",
       "      <th>family_size</th>\n",
       "      <th>education_level</th>\n",
       "      <th>income</th>\n",
       "      <th>mortgage_amt</th>\n",
       "      <th>credit_card_acct</th>\n",
       "      <th>credit_card_spend</th>\n",
       "      <th>share_trading_acct</th>\n",
       "      <th>fixed_deposit_acct</th>\n",
       "      <th>online_acct</th>\n",
       "      <th>personal_loan</th>\n",
       "      <th>income_log</th>\n",
       "    </tr>\n",
       "  </thead>\n",
       "  <tbody>\n",
       "    <tr>\n",
       "      <th>3997</th>\n",
       "      <td>3824</td>\n",
       "      <td>63.0</td>\n",
       "      <td>18.0</td>\n",
       "      <td>3.000000</td>\n",
       "      <td>Undergraduate</td>\n",
       "      <td>1660.00000</td>\n",
       "      <td>0</td>\n",
       "      <td>no</td>\n",
       "      <td>0.0</td>\n",
       "      <td>0</td>\n",
       "      <td>0</td>\n",
       "      <td>yes</td>\n",
       "      <td>no</td>\n",
       "      <td>7.414573</td>\n",
       "    </tr>\n",
       "    <tr>\n",
       "      <th>2996</th>\n",
       "      <td>4534</td>\n",
       "      <td>32.0</td>\n",
       "      <td>22.0</td>\n",
       "      <td>2.000000</td>\n",
       "      <td>Advanced or Professional</td>\n",
       "      <td>7470.00000</td>\n",
       "      <td>9628</td>\n",
       "      <td>no</td>\n",
       "      <td>0.0</td>\n",
       "      <td>1</td>\n",
       "      <td>0</td>\n",
       "      <td>yes</td>\n",
       "      <td>no</td>\n",
       "      <td>8.918650</td>\n",
       "    </tr>\n",
       "    <tr>\n",
       "      <th>2891</th>\n",
       "      <td>1571</td>\n",
       "      <td>25.0</td>\n",
       "      <td>36.0</td>\n",
       "      <td>1.000000</td>\n",
       "      <td>Undergraduate</td>\n",
       "      <td>6806.00000</td>\n",
       "      <td>19920</td>\n",
       "      <td>yes</td>\n",
       "      <td>141.1</td>\n",
       "      <td>0</td>\n",
       "      <td>0</td>\n",
       "      <td>yes</td>\n",
       "      <td>no</td>\n",
       "      <td>8.825560</td>\n",
       "    </tr>\n",
       "    <tr>\n",
       "      <th>1760</th>\n",
       "      <td>261</td>\n",
       "      <td>35.0</td>\n",
       "      <td>21.0</td>\n",
       "      <td>2.468566</td>\n",
       "      <td>Graduate</td>\n",
       "      <td>7315.94149</td>\n",
       "      <td>0</td>\n",
       "      <td>no</td>\n",
       "      <td>0.0</td>\n",
       "      <td>0</td>\n",
       "      <td>0</td>\n",
       "      <td>yes</td>\n",
       "      <td>no</td>\n",
       "      <td>7315.941490</td>\n",
       "    </tr>\n",
       "    <tr>\n",
       "      <th>2023</th>\n",
       "      <td>369</td>\n",
       "      <td>46.0</td>\n",
       "      <td>33.0</td>\n",
       "      <td>2.000000</td>\n",
       "      <td>Advanced or Professional</td>\n",
       "      <td>13446.00000</td>\n",
       "      <td>23821</td>\n",
       "      <td>no</td>\n",
       "      <td>0.0</td>\n",
       "      <td>0</td>\n",
       "      <td>0</td>\n",
       "      <td>yes</td>\n",
       "      <td>yes</td>\n",
       "      <td>9.506437</td>\n",
       "    </tr>\n",
       "  </tbody>\n",
       "</table>\n",
       "</div>"
      ],
      "text/plain": [
       "      customer_id   age  yrs_experience  family_size  \\\n",
       "3997         3824  63.0            18.0     3.000000   \n",
       "2996         4534  32.0            22.0     2.000000   \n",
       "2891         1571  25.0            36.0     1.000000   \n",
       "1760          261  35.0            21.0     2.468566   \n",
       "2023          369  46.0            33.0     2.000000   \n",
       "\n",
       "               education_level       income  mortgage_amt credit_card_acct  \\\n",
       "3997             Undergraduate   1660.00000             0               no   \n",
       "2996  Advanced or Professional   7470.00000          9628               no   \n",
       "2891             Undergraduate   6806.00000         19920              yes   \n",
       "1760                  Graduate   7315.94149             0               no   \n",
       "2023  Advanced or Professional  13446.00000         23821               no   \n",
       "\n",
       "      credit_card_spend  share_trading_acct  fixed_deposit_acct online_acct  \\\n",
       "3997                0.0                   0                   0         yes   \n",
       "2996                0.0                   1                   0         yes   \n",
       "2891              141.1                   0                   0         yes   \n",
       "1760                0.0                   0                   0         yes   \n",
       "2023                0.0                   0                   0         yes   \n",
       "\n",
       "     personal_loan   income_log  \n",
       "3997            no     7.414573  \n",
       "2996            no     8.918650  \n",
       "2891            no     8.825560  \n",
       "1760            no  7315.941490  \n",
       "2023           yes     9.506437  "
      ]
     },
     "execution_count": 72,
     "metadata": {},
     "output_type": "execute_result"
    }
   ],
   "source": [
    "data.sample(5)"
   ]
  },
  {
   "cell_type": "markdown",
   "id": "96db5500-caaf-41aa-8e94-f67389dd521d",
   "metadata": {},
   "source": [
    "## **Encoding**"
   ]
  },
  {
   "cell_type": "code",
   "execution_count": 75,
   "id": "1c3bb599-85d2-47f8-ab98-35a6df5718fc",
   "metadata": {},
   "outputs": [],
   "source": [
    "from sklearn.preprocessing import LabelEncoder\n",
    "\n",
    "# Initialize LabelEncoder\n",
    "le = LabelEncoder()\n",
    "\n",
    "# Apply label encoding to each categorical column\n",
    "data['education_level'] = le.fit_transform(data['education_level'])\n",
    "data['online_acct'] = le.fit_transform(data['online_acct'])\n",
    "data['personal_loan'] = le.fit_transform(data['personal_loan'])\n",
    "data['credit_card_acct'] = le.fit_transform(data['credit_card_acct'])"
   ]
  },
  {
   "cell_type": "code",
   "execution_count": 77,
   "id": "a66794a9-8930-4317-bad1-ec17d3c8c99e",
   "metadata": {},
   "outputs": [
    {
     "data": {
      "text/html": [
       "<div>\n",
       "<style scoped>\n",
       "    .dataframe tbody tr th:only-of-type {\n",
       "        vertical-align: middle;\n",
       "    }\n",
       "\n",
       "    .dataframe tbody tr th {\n",
       "        vertical-align: top;\n",
       "    }\n",
       "\n",
       "    .dataframe thead th {\n",
       "        text-align: right;\n",
       "    }\n",
       "</style>\n",
       "<table border=\"1\" class=\"dataframe\">\n",
       "  <thead>\n",
       "    <tr style=\"text-align: right;\">\n",
       "      <th></th>\n",
       "      <th>customer_id</th>\n",
       "      <th>age</th>\n",
       "      <th>yrs_experience</th>\n",
       "      <th>family_size</th>\n",
       "      <th>education_level</th>\n",
       "      <th>income</th>\n",
       "      <th>mortgage_amt</th>\n",
       "      <th>credit_card_acct</th>\n",
       "      <th>credit_card_spend</th>\n",
       "      <th>share_trading_acct</th>\n",
       "      <th>fixed_deposit_acct</th>\n",
       "      <th>online_acct</th>\n",
       "      <th>personal_loan</th>\n",
       "      <th>income_log</th>\n",
       "    </tr>\n",
       "  </thead>\n",
       "  <tbody>\n",
       "    <tr>\n",
       "      <th>0</th>\n",
       "      <td>3815</td>\n",
       "      <td>40.0</td>\n",
       "      <td>9.0</td>\n",
       "      <td>3.0</td>\n",
       "      <td>1</td>\n",
       "      <td>4980.0</td>\n",
       "      <td>0</td>\n",
       "      <td>1</td>\n",
       "      <td>141.1</td>\n",
       "      <td>0</td>\n",
       "      <td>0</td>\n",
       "      <td>1</td>\n",
       "      <td>0</td>\n",
       "      <td>8.513185</td>\n",
       "    </tr>\n",
       "    <tr>\n",
       "      <th>1</th>\n",
       "      <td>5737</td>\n",
       "      <td>65.0</td>\n",
       "      <td>27.0</td>\n",
       "      <td>4.0</td>\n",
       "      <td>0</td>\n",
       "      <td>2988.0</td>\n",
       "      <td>7470</td>\n",
       "      <td>0</td>\n",
       "      <td>0.0</td>\n",
       "      <td>0</td>\n",
       "      <td>0</td>\n",
       "      <td>1</td>\n",
       "      <td>0</td>\n",
       "      <td>8.002360</td>\n",
       "    </tr>\n",
       "    <tr>\n",
       "      <th>2</th>\n",
       "      <td>4209</td>\n",
       "      <td>61.0</td>\n",
       "      <td>3.0</td>\n",
       "      <td>2.0</td>\n",
       "      <td>2</td>\n",
       "      <td>12035.0</td>\n",
       "      <td>26062</td>\n",
       "      <td>0</td>\n",
       "      <td>0.0</td>\n",
       "      <td>0</td>\n",
       "      <td>1</td>\n",
       "      <td>1</td>\n",
       "      <td>1</td>\n",
       "      <td>9.395574</td>\n",
       "    </tr>\n",
       "    <tr>\n",
       "      <th>3</th>\n",
       "      <td>4734</td>\n",
       "      <td>29.0</td>\n",
       "      <td>14.0</td>\n",
       "      <td>1.0</td>\n",
       "      <td>2</td>\n",
       "      <td>4316.0</td>\n",
       "      <td>0</td>\n",
       "      <td>0</td>\n",
       "      <td>0.0</td>\n",
       "      <td>1</td>\n",
       "      <td>0</td>\n",
       "      <td>1</td>\n",
       "      <td>0</td>\n",
       "      <td>8.370084</td>\n",
       "    </tr>\n",
       "    <tr>\n",
       "      <th>4</th>\n",
       "      <td>2551</td>\n",
       "      <td>43.0</td>\n",
       "      <td>23.0</td>\n",
       "      <td>4.0</td>\n",
       "      <td>1</td>\n",
       "      <td>2739.0</td>\n",
       "      <td>0</td>\n",
       "      <td>0</td>\n",
       "      <td>0.0</td>\n",
       "      <td>0</td>\n",
       "      <td>0</td>\n",
       "      <td>1</td>\n",
       "      <td>0</td>\n",
       "      <td>7.915348</td>\n",
       "    </tr>\n",
       "  </tbody>\n",
       "</table>\n",
       "</div>"
      ],
      "text/plain": [
       "   customer_id   age  yrs_experience  family_size  education_level   income  \\\n",
       "0         3815  40.0             9.0          3.0                1   4980.0   \n",
       "1         5737  65.0            27.0          4.0                0   2988.0   \n",
       "2         4209  61.0             3.0          2.0                2  12035.0   \n",
       "3         4734  29.0            14.0          1.0                2   4316.0   \n",
       "4         2551  43.0            23.0          4.0                1   2739.0   \n",
       "\n",
       "   mortgage_amt  credit_card_acct  credit_card_spend  share_trading_acct  \\\n",
       "0             0                 1              141.1                   0   \n",
       "1          7470                 0                0.0                   0   \n",
       "2         26062                 0                0.0                   0   \n",
       "3             0                 0                0.0                   1   \n",
       "4             0                 0                0.0                   0   \n",
       "\n",
       "   fixed_deposit_acct  online_acct  personal_loan  income_log  \n",
       "0                   0            1              0    8.513185  \n",
       "1                   0            1              0    8.002360  \n",
       "2                   1            1              1    9.395574  \n",
       "3                   0            1              0    8.370084  \n",
       "4                   0            1              0    7.915348  "
      ]
     },
     "execution_count": 77,
     "metadata": {},
     "output_type": "execute_result"
    }
   ],
   "source": [
    "data.head()"
   ]
  },
  {
   "cell_type": "markdown",
   "id": "2fc90e35-2628-46ff-8a5d-22fd97c55df3",
   "metadata": {},
   "source": [
    "## **Feature Scaling**"
   ]
  },
  {
   "cell_type": "code",
   "execution_count": 80,
   "id": "b9ad227a-48b5-479c-a0b3-0502ce0a04f9",
   "metadata": {},
   "outputs": [],
   "source": [
    "cols = ['income','mortgage_amt','credit_card_spend']\n",
    "from sklearn.preprocessing import StandardScaler\n",
    "\n",
    "scalar_per = StandardScaler()\n",
    "data[cols] = scalar_per.fit_transform(data[cols])"
   ]
  },
  {
   "cell_type": "code",
   "execution_count": 82,
   "id": "0cff87ba-df8d-498d-be9e-1dfbf703c688",
   "metadata": {},
   "outputs": [
    {
     "data": {
      "text/html": [
       "<div>\n",
       "<style scoped>\n",
       "    .dataframe tbody tr th:only-of-type {\n",
       "        vertical-align: middle;\n",
       "    }\n",
       "\n",
       "    .dataframe tbody tr th {\n",
       "        vertical-align: top;\n",
       "    }\n",
       "\n",
       "    .dataframe thead th {\n",
       "        text-align: right;\n",
       "    }\n",
       "</style>\n",
       "<table border=\"1\" class=\"dataframe\">\n",
       "  <thead>\n",
       "    <tr style=\"text-align: right;\">\n",
       "      <th></th>\n",
       "      <th>customer_id</th>\n",
       "      <th>age</th>\n",
       "      <th>yrs_experience</th>\n",
       "      <th>family_size</th>\n",
       "      <th>education_level</th>\n",
       "      <th>income</th>\n",
       "      <th>mortgage_amt</th>\n",
       "      <th>credit_card_acct</th>\n",
       "      <th>credit_card_spend</th>\n",
       "      <th>share_trading_acct</th>\n",
       "      <th>fixed_deposit_acct</th>\n",
       "      <th>online_acct</th>\n",
       "      <th>personal_loan</th>\n",
       "      <th>income_log</th>\n",
       "    </tr>\n",
       "  </thead>\n",
       "  <tbody>\n",
       "    <tr>\n",
       "      <th>0</th>\n",
       "      <td>3815</td>\n",
       "      <td>40.0</td>\n",
       "      <td>9.0</td>\n",
       "      <td>3.0</td>\n",
       "      <td>1</td>\n",
       "      <td>-0.596573</td>\n",
       "      <td>-0.766732</td>\n",
       "      <td>1</td>\n",
       "      <td>0.753537</td>\n",
       "      <td>0</td>\n",
       "      <td>0</td>\n",
       "      <td>1</td>\n",
       "      <td>0</td>\n",
       "      <td>8.513185</td>\n",
       "    </tr>\n",
       "    <tr>\n",
       "      <th>1</th>\n",
       "      <td>5737</td>\n",
       "      <td>65.0</td>\n",
       "      <td>27.0</td>\n",
       "      <td>4.0</td>\n",
       "      <td>0</td>\n",
       "      <td>-1.105308</td>\n",
       "      <td>0.254281</td>\n",
       "      <td>0</td>\n",
       "      <td>-0.440844</td>\n",
       "      <td>0</td>\n",
       "      <td>0</td>\n",
       "      <td>1</td>\n",
       "      <td>0</td>\n",
       "      <td>8.002360</td>\n",
       "    </tr>\n",
       "    <tr>\n",
       "      <th>2</th>\n",
       "      <td>4209</td>\n",
       "      <td>61.0</td>\n",
       "      <td>3.0</td>\n",
       "      <td>2.0</td>\n",
       "      <td>2</td>\n",
       "      <td>1.205194</td>\n",
       "      <td>2.795469</td>\n",
       "      <td>0</td>\n",
       "      <td>-0.440844</td>\n",
       "      <td>0</td>\n",
       "      <td>1</td>\n",
       "      <td>1</td>\n",
       "      <td>1</td>\n",
       "      <td>9.395574</td>\n",
       "    </tr>\n",
       "    <tr>\n",
       "      <th>3</th>\n",
       "      <td>4734</td>\n",
       "      <td>29.0</td>\n",
       "      <td>14.0</td>\n",
       "      <td>1.0</td>\n",
       "      <td>2</td>\n",
       "      <td>-0.766151</td>\n",
       "      <td>-0.766732</td>\n",
       "      <td>0</td>\n",
       "      <td>-0.440844</td>\n",
       "      <td>1</td>\n",
       "      <td>0</td>\n",
       "      <td>1</td>\n",
       "      <td>0</td>\n",
       "      <td>8.370084</td>\n",
       "    </tr>\n",
       "    <tr>\n",
       "      <th>4</th>\n",
       "      <td>2551</td>\n",
       "      <td>43.0</td>\n",
       "      <td>23.0</td>\n",
       "      <td>4.0</td>\n",
       "      <td>1</td>\n",
       "      <td>-1.168899</td>\n",
       "      <td>-0.766732</td>\n",
       "      <td>0</td>\n",
       "      <td>-0.440844</td>\n",
       "      <td>0</td>\n",
       "      <td>0</td>\n",
       "      <td>1</td>\n",
       "      <td>0</td>\n",
       "      <td>7.915348</td>\n",
       "    </tr>\n",
       "  </tbody>\n",
       "</table>\n",
       "</div>"
      ],
      "text/plain": [
       "   customer_id   age  yrs_experience  family_size  education_level    income  \\\n",
       "0         3815  40.0             9.0          3.0                1 -0.596573   \n",
       "1         5737  65.0            27.0          4.0                0 -1.105308   \n",
       "2         4209  61.0             3.0          2.0                2  1.205194   \n",
       "3         4734  29.0            14.0          1.0                2 -0.766151   \n",
       "4         2551  43.0            23.0          4.0                1 -1.168899   \n",
       "\n",
       "   mortgage_amt  credit_card_acct  credit_card_spend  share_trading_acct  \\\n",
       "0     -0.766732                 1           0.753537                   0   \n",
       "1      0.254281                 0          -0.440844                   0   \n",
       "2      2.795469                 0          -0.440844                   0   \n",
       "3     -0.766732                 0          -0.440844                   1   \n",
       "4     -0.766732                 0          -0.440844                   0   \n",
       "\n",
       "   fixed_deposit_acct  online_acct  personal_loan  income_log  \n",
       "0                   0            1              0    8.513185  \n",
       "1                   0            1              0    8.002360  \n",
       "2                   1            1              1    9.395574  \n",
       "3                   0            1              0    8.370084  \n",
       "4                   0            1              0    7.915348  "
      ]
     },
     "execution_count": 82,
     "metadata": {},
     "output_type": "execute_result"
    }
   ],
   "source": [
    "data.head()"
   ]
  },
  {
   "cell_type": "markdown",
   "id": "f931ff06-d8d4-4ec2-8c71-66501bb2dc14",
   "metadata": {},
   "source": [
    "ML algorithm which don't need feature scaling are Non-linear algorithms. like Decision Tree, Random Forest, Gradient Bost, Naive Bayes, etc.\n",
    "\n",
    "Any algorithm, which is not distance based is not affected by feature scaling."
   ]
  },
  {
   "cell_type": "markdown",
   "id": "bc9936e0-bb31-4c9b-be46-0958e7270302",
   "metadata": {},
   "source": [
    "## **Splitting The Dataset Into The Training Set And Test Set**"
   ]
  },
  {
   "cell_type": "code",
   "execution_count": 86,
   "id": "3785ee06-8e98-4e79-bfdb-ad7cfc030e5b",
   "metadata": {},
   "outputs": [],
   "source": [
    "from sklearn.model_selection import train_test_split\n",
    "from sklearn.model_selection import cross_val_score\n",
    "from sklearn.metrics import accuracy_score"
   ]
  },
  {
   "cell_type": "code",
   "execution_count": 88,
   "id": "2d73dd10-5b5e-4a27-8e42-436304d26bd9",
   "metadata": {},
   "outputs": [],
   "source": [
    "X = data.drop(['customer_id','income_log','personal_loan'], axis=1)\n",
    "y = data['personal_loan']"
   ]
  },
  {
   "cell_type": "code",
   "execution_count": 90,
   "id": "4b740936-abfb-4b29-9c72-2f0f6a304af6",
   "metadata": {},
   "outputs": [
    {
     "data": {
      "text/html": [
       "<div>\n",
       "<style scoped>\n",
       "    .dataframe tbody tr th:only-of-type {\n",
       "        vertical-align: middle;\n",
       "    }\n",
       "\n",
       "    .dataframe tbody tr th {\n",
       "        vertical-align: top;\n",
       "    }\n",
       "\n",
       "    .dataframe thead th {\n",
       "        text-align: right;\n",
       "    }\n",
       "</style>\n",
       "<table border=\"1\" class=\"dataframe\">\n",
       "  <thead>\n",
       "    <tr style=\"text-align: right;\">\n",
       "      <th></th>\n",
       "      <th>age</th>\n",
       "      <th>yrs_experience</th>\n",
       "      <th>family_size</th>\n",
       "      <th>education_level</th>\n",
       "      <th>income</th>\n",
       "      <th>mortgage_amt</th>\n",
       "      <th>credit_card_acct</th>\n",
       "      <th>credit_card_spend</th>\n",
       "      <th>share_trading_acct</th>\n",
       "      <th>fixed_deposit_acct</th>\n",
       "      <th>online_acct</th>\n",
       "    </tr>\n",
       "  </thead>\n",
       "  <tbody>\n",
       "    <tr>\n",
       "      <th>0</th>\n",
       "      <td>40.0</td>\n",
       "      <td>9.0</td>\n",
       "      <td>3.0</td>\n",
       "      <td>1</td>\n",
       "      <td>-0.596573</td>\n",
       "      <td>-0.766732</td>\n",
       "      <td>1</td>\n",
       "      <td>0.753537</td>\n",
       "      <td>0</td>\n",
       "      <td>0</td>\n",
       "      <td>1</td>\n",
       "    </tr>\n",
       "    <tr>\n",
       "      <th>1</th>\n",
       "      <td>65.0</td>\n",
       "      <td>27.0</td>\n",
       "      <td>4.0</td>\n",
       "      <td>0</td>\n",
       "      <td>-1.105308</td>\n",
       "      <td>0.254281</td>\n",
       "      <td>0</td>\n",
       "      <td>-0.440844</td>\n",
       "      <td>0</td>\n",
       "      <td>0</td>\n",
       "      <td>1</td>\n",
       "    </tr>\n",
       "    <tr>\n",
       "      <th>2</th>\n",
       "      <td>61.0</td>\n",
       "      <td>3.0</td>\n",
       "      <td>2.0</td>\n",
       "      <td>2</td>\n",
       "      <td>1.205194</td>\n",
       "      <td>2.795469</td>\n",
       "      <td>0</td>\n",
       "      <td>-0.440844</td>\n",
       "      <td>0</td>\n",
       "      <td>1</td>\n",
       "      <td>1</td>\n",
       "    </tr>\n",
       "    <tr>\n",
       "      <th>3</th>\n",
       "      <td>29.0</td>\n",
       "      <td>14.0</td>\n",
       "      <td>1.0</td>\n",
       "      <td>2</td>\n",
       "      <td>-0.766151</td>\n",
       "      <td>-0.766732</td>\n",
       "      <td>0</td>\n",
       "      <td>-0.440844</td>\n",
       "      <td>1</td>\n",
       "      <td>0</td>\n",
       "      <td>1</td>\n",
       "    </tr>\n",
       "    <tr>\n",
       "      <th>4</th>\n",
       "      <td>43.0</td>\n",
       "      <td>23.0</td>\n",
       "      <td>4.0</td>\n",
       "      <td>1</td>\n",
       "      <td>-1.168899</td>\n",
       "      <td>-0.766732</td>\n",
       "      <td>0</td>\n",
       "      <td>-0.440844</td>\n",
       "      <td>0</td>\n",
       "      <td>0</td>\n",
       "      <td>1</td>\n",
       "    </tr>\n",
       "  </tbody>\n",
       "</table>\n",
       "</div>"
      ],
      "text/plain": [
       "    age  yrs_experience  family_size  education_level    income  mortgage_amt  \\\n",
       "0  40.0             9.0          3.0                1 -0.596573     -0.766732   \n",
       "1  65.0            27.0          4.0                0 -1.105308      0.254281   \n",
       "2  61.0             3.0          2.0                2  1.205194      2.795469   \n",
       "3  29.0            14.0          1.0                2 -0.766151     -0.766732   \n",
       "4  43.0            23.0          4.0                1 -1.168899     -0.766732   \n",
       "\n",
       "   credit_card_acct  credit_card_spend  share_trading_acct  \\\n",
       "0                 1           0.753537                   0   \n",
       "1                 0          -0.440844                   0   \n",
       "2                 0          -0.440844                   0   \n",
       "3                 0          -0.440844                   1   \n",
       "4                 0          -0.440844                   0   \n",
       "\n",
       "   fixed_deposit_acct  online_acct  \n",
       "0                   0            1  \n",
       "1                   0            1  \n",
       "2                   1            1  \n",
       "3                   0            1  \n",
       "4                   0            1  "
      ]
     },
     "execution_count": 90,
     "metadata": {},
     "output_type": "execute_result"
    }
   ],
   "source": [
    "X.head()"
   ]
  },
  {
   "cell_type": "code",
   "execution_count": 92,
   "id": "f1b7a5ed-7646-41f3-8a6a-3940e89d6113",
   "metadata": {},
   "outputs": [],
   "source": [
    "X_train,X_test,y_train,y_test = train_test_split(X,y,test_size=0.20,random_state=42)\n"
   ]
  },
  {
   "cell_type": "markdown",
   "id": "2adc98bd-880c-4373-b49c-995ea5a5e2aa",
   "metadata": {},
   "source": [
    "### **Applying SMOTE analysis for Balancing the Data**"
   ]
  },
  {
   "cell_type": "code",
   "execution_count": 95,
   "id": "f16b632b-75ef-467d-a4d4-69587238d08e",
   "metadata": {},
   "outputs": [],
   "source": [
    "from imblearn.over_sampling import SMOTE\n",
    "from collections import Counter"
   ]
  },
  {
   "cell_type": "code",
   "execution_count": 97,
   "id": "c4b16d0e-3f83-4562-a7cd-8ae67030e945",
   "metadata": {},
   "outputs": [
    {
     "name": "stdout",
     "output_type": "stream",
     "text": [
      "Before SMOTE: Counter({0: 4094, 1: 706})\n"
     ]
    }
   ],
   "source": [
    "print(\"Before SMOTE:\", Counter(y_train))"
   ]
  },
  {
   "cell_type": "code",
   "execution_count": 99,
   "id": "f3954267-3569-4415-a9bc-65bf50b066b1",
   "metadata": {},
   "outputs": [
    {
     "name": "stdout",
     "output_type": "stream",
     "text": [
      "After SMOTE: Counter({0: 4094, 1: 4094})\n"
     ]
    }
   ],
   "source": [
    "smote = SMOTE(sampling_strategy=1.0, random_state=42)  # 1.0 means fully balanced\n",
    "\n",
    "# Apply SMOTE on training data\n",
    "X_train_resampled, y_train_resampled = smote.fit_resample(X_train, y_train)\n",
    "\n",
    "# Check class distribution after SMOTE\n",
    "print(\"After SMOTE:\", Counter(y_train_resampled))"
   ]
  },
  {
   "cell_type": "markdown",
   "id": "1a0344aa-114b-4e51-9195-a6c98ceb8471",
   "metadata": {},
   "source": [
    "#### **Training multiple Ensembling models and selecting the one with the highest accuracy for real-world predictions.**"
   ]
  },
  {
   "cell_type": "markdown",
   "id": "31dbb79d-8e2a-4a27-8d9a-be74e5c7b833",
   "metadata": {},
   "source": [
    "## **Random Forest Classifier**"
   ]
  },
  {
   "cell_type": "code",
   "execution_count": 103,
   "id": "a37ee972-8ae3-44dd-888d-71a6eb19338e",
   "metadata": {},
   "outputs": [
    {
     "name": "stdout",
     "output_type": "stream",
     "text": [
      "Accuracy: 0.9266666666666666\n",
      "Classification Report:\n",
      "              precision    recall  f1-score   support\n",
      "\n",
      "           0       0.96      0.95      0.96      1006\n",
      "           1       0.76      0.80      0.78       194\n",
      "\n",
      "    accuracy                           0.93      1200\n",
      "   macro avg       0.86      0.88      0.87      1200\n",
      "weighted avg       0.93      0.93      0.93      1200\n",
      "\n"
     ]
    }
   ],
   "source": [
    "from sklearn.ensemble import RandomForestClassifier\n",
    "from sklearn.metrics import classification_report, accuracy_score\n",
    "\n",
    "rf_model = RandomForestClassifier(n_estimators=100, random_state=42)\n",
    "rf_model.fit(X_train_resampled, y_train_resampled)\n",
    "y_pred = rf_model.predict(X_test)  # assuming X_test is your test data\n",
    "print(\"Accuracy:\", accuracy_score(y_test, y_pred))  # assuming y_test is your test labels\n",
    "print(\"Classification Report:\")\n",
    "print(classification_report(y_test, y_pred))\n"
   ]
  },
  {
   "cell_type": "markdown",
   "id": "9c721c1d-fd5f-4720-9700-581f3e61e0f3",
   "metadata": {},
   "source": [
    "## **Gradient Boosting Classifier**"
   ]
  },
  {
   "cell_type": "code",
   "execution_count": 106,
   "id": "343a7fc9-0df3-40ff-bb58-296632d19f92",
   "metadata": {},
   "outputs": [
    {
     "name": "stdout",
     "output_type": "stream",
     "text": [
      "Accuracy: 0.9191666666666667\n",
      "Classification Report:\n",
      "              precision    recall  f1-score   support\n",
      "\n",
      "           0       0.96      0.94      0.95      1006\n",
      "           1       0.72      0.82      0.77       194\n",
      "\n",
      "    accuracy                           0.92      1200\n",
      "   macro avg       0.84      0.88      0.86      1200\n",
      "weighted avg       0.92      0.92      0.92      1200\n",
      "\n"
     ]
    }
   ],
   "source": [
    "from sklearn.ensemble import GradientBoostingClassifier\n",
    "\n",
    "gb_model = GradientBoostingClassifier(n_estimators=100, random_state=42)\n",
    "gb_model.fit(X_train_resampled, y_train_resampled)\n",
    "y_pred = gb_model.predict(X_test)  # assuming X_test is your test data\n",
    "print(\"Accuracy:\", accuracy_score(y_test, y_pred))  # assuming y_test is your test labels\n",
    "print(\"Classification Report:\")\n",
    "print(classification_report(y_test, y_pred))\n"
   ]
  },
  {
   "cell_type": "markdown",
   "id": "264af7ae-6210-4ca3-ad4d-561d184cf33b",
   "metadata": {},
   "source": [
    "## **XGBoost**"
   ]
  },
  {
   "cell_type": "code",
   "execution_count": 109,
   "id": "7ba091ec-4acb-4d2a-aeff-1d90d6c8fb95",
   "metadata": {},
   "outputs": [],
   "source": [
    "import xgboost as xgb"
   ]
  },
  {
   "cell_type": "code",
   "execution_count": 111,
   "id": "a7a81132-3d32-4db9-b906-12ae6d675c0b",
   "metadata": {},
   "outputs": [
    {
     "name": "stdout",
     "output_type": "stream",
     "text": [
      "Accuracy: 0.9125\n",
      "Classification Report:\n",
      "              precision    recall  f1-score   support\n",
      "\n",
      "           0       0.95      0.95      0.95      1006\n",
      "           1       0.74      0.72      0.73       194\n",
      "\n",
      "    accuracy                           0.91      1200\n",
      "   macro avg       0.84      0.83      0.84      1200\n",
      "weighted avg       0.91      0.91      0.91      1200\n",
      "\n"
     ]
    }
   ],
   "source": [
    "xgb_model = xgb.XGBClassifier(n_estimators=100, random_state=42, eval_metric='mlogloss')\n",
    "xgb_model.fit(X_train_resampled, y_train_resampled)\n",
    "y_pred = xgb_model.predict(X_test)  # assuming X_test is your test data\n",
    "print(\"Accuracy:\", accuracy_score(y_test, y_pred))  # assuming y_test is your test labels\n",
    "print(\"Classification Report:\")\n",
    "print(classification_report(y_test, y_pred))\n"
   ]
  },
  {
   "cell_type": "markdown",
   "id": "4309c295-6b1f-4a68-b736-30b06e37a979",
   "metadata": {},
   "source": [
    "RandomForest score for the model : 92.08\n",
    "\n",
    "------------------------------------------------------\n",
    "Gradient Boosting Classifier score for the model: 91.91\n",
    "    \n",
    "--------------------------------------------------------\n",
    "XGBoost Score for the model:91.25"
   ]
  },
  {
   "cell_type": "markdown",
   "id": "aab3adfa-8bf8-4032-ad3a-2c9e7b1edfb5",
   "metadata": {},
   "source": [
    "Selecting RandomForest model for Production with 92.08 accuracy. ."
   ]
  },
  {
   "cell_type": "markdown",
   "id": "ecc39da1-f796-4c66-b8c3-ac8603e8cd5d",
   "metadata": {},
   "source": [
    "## **Save The Model**\n",
    "**Before we save our best model Logistic Regression for Production, we've to train our Model on the entire dataset with best parameters that we've just found.**"
   ]
  },
  {
   "cell_type": "code",
   "execution_count": 116,
   "id": "05f802f1-9537-44e9-87e3-eaceb530376f",
   "metadata": {},
   "outputs": [],
   "source": [
    "final_model = rf_model.fit(X,y)"
   ]
  },
  {
   "cell_type": "markdown",
   "id": "ba719eb4-0677-4ef3-81a9-8fdbf4a6fd52",
   "metadata": {},
   "source": [
    "**Saving our model, so that we've don't have to train it again using joblib**."
   ]
  },
  {
   "cell_type": "code",
   "execution_count": 119,
   "id": "5b28c300-84d5-45e7-9c51-2e9e569a034e",
   "metadata": {},
   "outputs": [],
   "source": [
    "import pickle\n",
    "\n",
    "# saving our model by passing an instance of our model and giving it a name.\n",
    "\n",
    "with open(\"personal_model.pkl\", \"wb\") as file:\n",
    "    pickle.dump(final_model, file)"
   ]
  },
  {
   "cell_type": "code",
   "execution_count": 123,
   "id": "0823d5ea-5d92-4c7a-9d53-0922db4ec94d",
   "metadata": {},
   "outputs": [],
   "source": [
    "\n",
    "# Ensure you're loading the correct file\n",
    "with open(\"personal_model.pkl\", \"rb\") as file:\n",
    "    personal_model = pickle.load(file)\n",
    "\n",
    "# Check if the model has the `.predict()` method\n",
    "if not hasattr(personal_model, \"predict\"):\n",
    "    raise TypeError(\"Loaded `home_model` is not a valid ML model.\")\n"
   ]
  },
  {
   "cell_type": "code",
   "execution_count": 125,
   "id": "26d0aaa0-defe-40b0-b99d-1a810d01e51e",
   "metadata": {},
   "outputs": [
    {
     "name": "stdout",
     "output_type": "stream",
     "text": [
      "Type of personal_model: <class 'sklearn.ensemble._forest.RandomForestClassifier'>\n"
     ]
    }
   ],
   "source": [
    "print(\"Type of personal_model:\", type(personal_model))\n",
    "\n",
    "# Check if it is an actual ML model and has `predict` method\n",
    "if not hasattr(personal_model, \"predict\"):\n",
    "    raise TypeError(\"Loaded `home_model` is not a valid ML model.\")\n"
   ]
  },
  {
   "cell_type": "code",
   "execution_count": null,
   "id": "a40e0fc0-d185-4c44-9cec-ad0c772b8a2b",
   "metadata": {},
   "outputs": [],
   "source": [
    "X.columns"
   ]
  },
  {
   "cell_type": "code",
   "execution_count": 127,
   "id": "0c1e2000-2a41-4364-be38-40c30609dfc3",
   "metadata": {},
   "outputs": [],
   "source": [
    "sample_data = pd.DataFrame({\n",
    "    'age': [65.0],\n",
    "    'yrs_experience': [27.0],\n",
    "    'family_size': [4],\n",
    "    'education_level': [0],\n",
    "    'income': [2988.0],\n",
    "    'mortgage_amt': [7470],\n",
    "    'credit_card_acct': [0.0],\n",
    "    'credit_card_spend':0,\n",
    "    'share_trading_acct':0,\n",
    "    'fixed_deposit_acct':0,\n",
    "    'online_acct':1\n",
    "},index=[0])"
   ]
  },
  {
   "cell_type": "code",
   "execution_count": 129,
   "id": "2e6727f5-cf3b-4d17-9bc8-1b7225d625e1",
   "metadata": {},
   "outputs": [],
   "source": [
    "result = final_model.predict(sample_data)"
   ]
  },
  {
   "cell_type": "code",
   "execution_count": 131,
   "id": "ac4459cd-13a2-45ed-af62-20701cdf5b2b",
   "metadata": {},
   "outputs": [
    {
     "name": "stdout",
     "output_type": "stream",
     "text": [
      "Loan Not Approved\n"
     ]
    }
   ],
   "source": [
    "if result==1:\n",
    "    print(\"Loan Approved\")\n",
    "else:\n",
    "    print(\"Loan Not Approved\")"
   ]
  },
  {
   "cell_type": "code",
   "execution_count": null,
   "id": "78dcfa1c-3eb6-409b-b612-6dcfab7302ae",
   "metadata": {},
   "outputs": [],
   "source": []
  }
 ],
 "metadata": {
  "kernelspec": {
   "display_name": "Python [conda env:base] *",
   "language": "python",
   "name": "conda-base-py"
  },
  "language_info": {
   "codemirror_mode": {
    "name": "ipython",
    "version": 3
   },
   "file_extension": ".py",
   "mimetype": "text/x-python",
   "name": "python",
   "nbconvert_exporter": "python",
   "pygments_lexer": "ipython3",
   "version": "3.12.7"
  }
 },
 "nbformat": 4,
 "nbformat_minor": 5
}
